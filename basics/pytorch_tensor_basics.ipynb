{
  "nbformat": 4,
  "nbformat_minor": 0,
  "metadata": {
    "colab": {
      "provenance": [],
      "authorship_tag": "ABX9TyPXJfureBkPxLTgcH/Sxr4Y",
      "include_colab_link": true
    },
    "kernelspec": {
      "name": "python3",
      "display_name": "Python 3"
    },
    "language_info": {
      "name": "python"
    }
  },
  "cells": [
    {
      "cell_type": "markdown",
      "metadata": {
        "id": "view-in-github",
        "colab_type": "text"
      },
      "source": [
        "<a href=\"https://colab.research.google.com/github/pavanreddy565/PyTorch_learning/blob/main/basics/pytorch_tensor_basics.ipynb\" target=\"_parent\"><img src=\"https://colab.research.google.com/assets/colab-badge.svg\" alt=\"Open In Colab\"/></a>"
      ]
    },
    {
      "cell_type": "markdown",
      "source": [
        "# **Pytorch Basics: Tensors & Gradients**"
      ],
      "metadata": {
        "id": "mNsm88INIjMo"
      }
    },
    {
      "cell_type": "code",
      "execution_count": null,
      "metadata": {
        "id": "Qbv_YTpRIPWy"
      },
      "outputs": [],
      "source": [
        "import torch"
      ]
    },
    {
      "cell_type": "markdown",
      "source": [
        "# **Tensors**\n",
        "At its core, PyTorch is a library for processing tensors. A tensor is a number, vector, matrix or any n-dimensional array. Let's create a tensor with a single number:"
      ],
      "metadata": {
        "id": "QwqMeUF9JAaA"
      }
    },
    {
      "cell_type": "code",
      "source": [
        "t1=torch.tensor(4.)\n",
        "t1"
      ],
      "metadata": {
        "colab": {
          "base_uri": "https://localhost:8080/"
        },
        "id": "ij4G-tvvJdol",
        "outputId": "34f74861-e1b9-4509-862d-76a8d890f6a1"
      },
      "execution_count": null,
      "outputs": [
        {
          "output_type": "execute_result",
          "data": {
            "text/plain": [
              "tensor(4.)"
            ]
          },
          "metadata": {},
          "execution_count": 3
        }
      ]
    },
    {
      "cell_type": "code",
      "source": [
        "t1.dtype"
      ],
      "metadata": {
        "colab": {
          "base_uri": "https://localhost:8080/"
        },
        "id": "WFePzYr8JsYs",
        "outputId": "1e9bad2f-c8bd-4423-f427-f6c12bf573b3"
      },
      "execution_count": null,
      "outputs": [
        {
          "output_type": "execute_result",
          "data": {
            "text/plain": [
              "torch.float32"
            ]
          },
          "metadata": {},
          "execution_count": 4
        }
      ]
    },
    {
      "cell_type": "code",
      "source": [
        "#vector\n",
        "t2 = torch.tensor([1.,2,3,4])\n",
        "t2"
      ],
      "metadata": {
        "colab": {
          "base_uri": "https://localhost:8080/"
        },
        "id": "hIB-lE5hJwmB",
        "outputId": "3ac4f896-3e64-4687-ed47-106427c7f2ff"
      },
      "execution_count": null,
      "outputs": [
        {
          "output_type": "execute_result",
          "data": {
            "text/plain": [
              "tensor([1., 2., 3., 4.])"
            ]
          },
          "metadata": {},
          "execution_count": 5
        }
      ]
    },
    {
      "cell_type": "code",
      "source": [
        "#matrix\n",
        "t3 =torch.tensor([[5,6],[7,8],[9,10]])\n",
        "t3"
      ],
      "metadata": {
        "colab": {
          "base_uri": "https://localhost:8080/"
        },
        "id": "02GcNuU9J9O3",
        "outputId": "8b4191bc-fee4-41ab-f1b2-62d8167c5bb7"
      },
      "execution_count": null,
      "outputs": [
        {
          "output_type": "execute_result",
          "data": {
            "text/plain": [
              "tensor([[ 5,  6],\n",
              "        [ 7,  8],\n",
              "        [ 9, 10]])"
            ]
          },
          "metadata": {},
          "execution_count": 6
        }
      ]
    },
    {
      "cell_type": "code",
      "source": [
        "# 3-dimesional array\n",
        "t4=torch.tensor([[[11,12,13],[13,14,15]],[[15,16,17],[17,18,19]]])\n",
        "t4"
      ],
      "metadata": {
        "colab": {
          "base_uri": "https://localhost:8080/"
        },
        "id": "3MlmlkoRJ775",
        "outputId": "c06735ab-f3f0-4e2d-9de8-35d8ea19edf6"
      },
      "execution_count": null,
      "outputs": [
        {
          "output_type": "execute_result",
          "data": {
            "text/plain": [
              "tensor([[[11, 12, 13],\n",
              "         [13, 14, 15]],\n",
              "\n",
              "        [[15, 16, 17],\n",
              "         [17, 18, 19]]])"
            ]
          },
          "metadata": {},
          "execution_count": 7
        }
      ]
    },
    {
      "cell_type": "markdown",
      "source": [
        "Tensors can have any number of dimesions, and different lenths along each dimension. We can inspect the length along each dimension using the .shape property of a tensor"
      ],
      "metadata": {
        "id": "QLlNGMJLKkQq"
      }
    },
    {
      "cell_type": "code",
      "source": [
        "t1.shape,t2.shape,t3.shape,t4.shape"
      ],
      "metadata": {
        "colab": {
          "base_uri": "https://localhost:8080/"
        },
        "id": "HaJlEc4NK4-Q",
        "outputId": "7dbd02ac-50e7-4627-8928-f5ba66115683"
      },
      "execution_count": null,
      "outputs": [
        {
          "output_type": "execute_result",
          "data": {
            "text/plain": [
              "(torch.Size([]), torch.Size([4]), torch.Size([3, 2]), torch.Size([2, 2, 3]))"
            ]
          },
          "metadata": {},
          "execution_count": 8
        }
      ]
    },
    {
      "cell_type": "markdown",
      "source": [
        "# **Tensor Operations and gradients**\n",
        "We can combine tensors with the usaul arithemetic operations. Let's look an example"
      ],
      "metadata": {
        "id": "6iEa7GF2LKjg"
      }
    },
    {
      "cell_type": "code",
      "source": [
        "# create tensors\n",
        "x = torch.tensor(3.)\n",
        "y = torch.tensor(4., requires_grad=True)\n",
        "z = torch.tensor(5., requires_grad=True)"
      ],
      "metadata": {
        "id": "bdqJGJhGLaty"
      },
      "execution_count": null,
      "outputs": []
    },
    {
      "cell_type": "code",
      "source": [
        "w = y * x + z\n",
        "w"
      ],
      "metadata": {
        "colab": {
          "base_uri": "https://localhost:8080/"
        },
        "id": "s61MZHKzL0Ws",
        "outputId": "fd6a5aab-f37d-43b6-9da5-281377912895"
      },
      "execution_count": null,
      "outputs": [
        {
          "output_type": "execute_result",
          "data": {
            "text/plain": [
              "tensor(17., grad_fn=<AddBackward0>)"
            ]
          },
          "metadata": {},
          "execution_count": 15
        }
      ]
    },
    {
      "cell_type": "markdown",
      "source": [
        "as expected, ``` w ``` is a tensor with the value ``` 3 * 4 + 5 =17 ``` . what makes PyTorch special is that we can automatically compute the derivative of ```w ``` w.r.t  the tensors that have ``` requires_grad=True ``` i.e ```y``` and ```z ``` . To compute the derivatives, we can call the ```.backward``` method on our result ```w```.\n"
      ],
      "metadata": {
        "id": "I9wBb6rDMBle"
      }
    },
    {
      "cell_type": "code",
      "source": [
        "# computive derivatives\n",
        "w.backward()"
      ],
      "metadata": {
        "id": "hiyARnHvNHPr"
      },
      "execution_count": null,
      "outputs": []
    },
    {
      "cell_type": "markdown",
      "source": [
        "the deivatives of ```w ``` w.r.t the input tensors are stored in the ```.grad``` property of the respective tensors."
      ],
      "metadata": {
        "id": "ShzjFw3zNWet"
      }
    },
    {
      "cell_type": "code",
      "source": [
        "# Display Gradients\n",
        "print(f'dw/dx : {x.grad}')\n",
        "print(f'dw/dy : {y.grad}')\n",
        "print(f'dw/dz : {z.grad}')"
      ],
      "metadata": {
        "colab": {
          "base_uri": "https://localhost:8080/"
        },
        "id": "DXFYlpYHNlIu",
        "outputId": "ac4b75c5-08ac-4884-b2f6-ff5355bb0cc5"
      },
      "execution_count": null,
      "outputs": [
        {
          "output_type": "stream",
          "name": "stdout",
          "text": [
            "dw/dx : None\n",
            "dw/dy : 3.0\n",
            "dw/dz : 1.0\n"
          ]
        }
      ]
    },
    {
      "cell_type": "markdown",
      "source": [
        "As expected, dw/dy has the same value as x i.e. 3, and dw/dz has the value 1. Note that x.grad is None, because x doesn't have requires_grad set to True.\n",
        "\n",
        "The \"grad\" in y.grad stands for gradient, which is another term for derivative, used mainly when dealing with matrices."
      ],
      "metadata": {
        "id": "IQ4Kj1waOGyW"
      }
    },
    {
      "cell_type": "markdown",
      "source": [
        "# **Interoperability with Numpy**\n",
        "Numpy is a popular open source library used for mathematical and scientific computing in Python. it enables efficient operations on large multi-dimensional arrays, and has a large ecosystem of suppourting libraries\n",
        "\n",
        "\n",
        "*   Matplotlib for ploting and visulazation\n",
        "*   OpenCV for image and video processing\n",
        "*   pandas for file I/O and data anyalsis\n",
        "\n",
        "Instead of reinventing the wheel, PyTorch interoperates really well with Numpy to leverage it existing ecosystem of tools and libraries\n",
        "\n",
        "\n"
      ],
      "metadata": {
        "id": "lwYapcP2OfWu"
      }
    },
    {
      "cell_type": "code",
      "source": [
        "import numpy as np\n",
        "\n",
        "x=np.array([[1,2],[3,4.]])\n",
        "x"
      ],
      "metadata": {
        "colab": {
          "base_uri": "https://localhost:8080/"
        },
        "id": "nsN6T1T_PYCU",
        "outputId": "5d14e10b-e5e5-4c59-9c57-6d39fbc59e2a"
      },
      "execution_count": null,
      "outputs": [
        {
          "output_type": "execute_result",
          "data": {
            "text/plain": [
              "array([[1., 2.],\n",
              "       [3., 4.]])"
            ]
          },
          "metadata": {},
          "execution_count": 18
        }
      ]
    },
    {
      "cell_type": "code",
      "source": [
        "# convert the numpy array to a torch tensor\n",
        "y = torch.from_numpy(x) # it uses same space in the memory\n",
        "\n",
        "b = torch.tensor(x)# it creates a space in the memory\n",
        "\n",
        "y,b"
      ],
      "metadata": {
        "colab": {
          "base_uri": "https://localhost:8080/"
        },
        "id": "KuFHEjf6P1ZX",
        "outputId": "a38cc301-8c81-4db8-95eb-ec503556a412"
      },
      "execution_count": null,
      "outputs": [
        {
          "output_type": "execute_result",
          "data": {
            "text/plain": [
              "(tensor([[1., 2.],\n",
              "         [3., 4.]], dtype=torch.float64),\n",
              " tensor([[1., 2.],\n",
              "         [3., 4.]], dtype=torch.float64))"
            ]
          },
          "metadata": {},
          "execution_count": 19
        }
      ]
    },
    {
      "cell_type": "code",
      "source": [
        "x.dtype,y.dtype"
      ],
      "metadata": {
        "colab": {
          "base_uri": "https://localhost:8080/"
        },
        "id": "F4wockuiQVqu",
        "outputId": "e4d47722-2323-49b0-a190-d2ba73dfc616"
      },
      "execution_count": null,
      "outputs": [
        {
          "output_type": "execute_result",
          "data": {
            "text/plain": [
              "(dtype('float64'), torch.float64)"
            ]
          },
          "metadata": {},
          "execution_count": 20
        }
      ]
    },
    {
      "cell_type": "code",
      "source": [
        "# convert a torch tensor to a numpy array\n",
        "z = y.numpy()\n",
        "z"
      ],
      "metadata": {
        "colab": {
          "base_uri": "https://localhost:8080/"
        },
        "id": "-VsHuRwhQZFh",
        "outputId": "2a498450-f6cc-4128-9d94-7f220f0c97c7"
      },
      "execution_count": null,
      "outputs": [
        {
          "output_type": "execute_result",
          "data": {
            "text/plain": [
              "array([[1., 2.],\n",
              "       [3., 4.]])"
            ]
          },
          "metadata": {},
          "execution_count": 21
        }
      ]
    },
    {
      "cell_type": "markdown",
      "source": [
        "The interperability between PyTorch and Numpy is really important because most datasets most datasets you'll work with likely be read and preprocessed as Numpy arrays."
      ],
      "metadata": {
        "id": "bZpiMU_HQpHa"
      }
    },
    {
      "cell_type": "markdown",
      "source": [
        "pytorch tensors and numpy arrays works in simalar manner but pytorch tensors are mostly likely designed for the GPU's(parrallel computing).pytorch tensors are written in cuda which is used to intract with nvidia's GPU\n"
      ],
      "metadata": {
        "id": "NV57KUSmRHcp"
      }
    },
    {
      "cell_type": "markdown",
      "source": [
        "pytorch documentation :- https://pytorch.org/docs/stable/tensors.html"
      ],
      "metadata": {
        "id": "BV8xfmccS5eD"
      }
    }
  ]
}