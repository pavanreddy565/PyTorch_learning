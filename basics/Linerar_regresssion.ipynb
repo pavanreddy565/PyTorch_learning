{
  "nbformat": 4,
  "nbformat_minor": 0,
  "metadata": {
    "colab": {
      "provenance": [],
      "authorship_tag": "ABX9TyPS/gQjrRO7fkuym6/WUhl7",
      "include_colab_link": true
    },
    "kernelspec": {
      "name": "python3",
      "display_name": "Python 3"
    },
    "language_info": {
      "name": "python"
    }
  },
  "cells": [
    {
      "cell_type": "markdown",
      "metadata": {
        "id": "view-in-github",
        "colab_type": "text"
      },
      "source": [
        "<a href=\"https://colab.research.google.com/github/pavanreddy565/PyTorch_learning/blob/main/basics/Linerar_regresssion.ipynb\" target=\"_parent\"><img src=\"https://colab.research.google.com/assets/colab-badge.svg\" alt=\"Open In Colab\"/></a>"
      ]
    },
    {
      "cell_type": "markdown",
      "source": [
        "## Introduction to Linear Regression\n",
        "\n",
        "In this tutorial, we'll discuss one of the foundational algorithms in machine learning: *Linear regression*. We'll create a model that predicts crop yields for apples and oranges (*target variables*) by looking at the average temperature, rainfall, and humidity (*input variables or features*) in a region. Here's the training data:\n",
        "\n",
        "![linear-regression-training-data](https://i.imgur.com/6Ujttb4.png)\n",
        "\n",
        "In a linear regression model, each target variable is estimated to be a weighted sum of the input variables, offset by some constant, known as a bias :\n",
        "\n",
        "```\n",
        "yield_apple  = w11 * temp + w12 * rainfall + w13 * humidity + b1\n",
        "yield_orange = w21 * temp + w22 * rainfall + w23 * humidity + b2\n",
        "```\n",
        "\n",
        "Visually, it means that the yield of apples is a linear or planar function of temperature, rainfall and humidity:\n",
        "\n",
        "![linear-regression-graph](https://i.imgur.com/4DJ9f8X.png)"
      ],
      "metadata": {
        "id": "teVP1CikTt1T"
      }
    },
    {
      "cell_type": "code",
      "execution_count": 6,
      "metadata": {
        "id": "H82SajT8RIgK"
      },
      "outputs": [],
      "source": [
        "import numpy as np\n",
        "import torch"
      ]
    },
    {
      "cell_type": "code",
      "source": [
        "# Input (temp, rainfall, humidity)\n",
        "inputs = np.array([[73, 67, 43],\n",
        "                   [91, 88, 64],\n",
        "                   [87, 134, 58],\n",
        "                   [102, 43, 37],\n",
        "                   [69, 96, 70]], dtype='float32')"
      ],
      "metadata": {
        "id": "_a58qm9bOcAE"
      },
      "execution_count": null,
      "outputs": []
    },
    {
      "cell_type": "code",
      "source": [
        "# Targets (apples, oranges)\n",
        "targets = np.array([[56, 70],\n",
        "                    [81, 101],\n",
        "                    [119, 133],\n",
        "                    [22, 37],\n",
        "                    [103, 119]], dtype='float32')"
      ],
      "metadata": {
        "id": "KOOZa77dOg9J"
      },
      "execution_count": null,
      "outputs": []
    },
    {
      "cell_type": "code",
      "source": [
        "inputs=torch.from_numpy(inputs)\n",
        "targets=torch.from_numpy(targets)\n",
        "inputs,targets"
      ],
      "metadata": {
        "colab": {
          "base_uri": "https://localhost:8080/"
        },
        "id": "jaxxvJ3vOowg",
        "outputId": "89222b4e-8c50-49cc-972c-edee94fec47b"
      },
      "execution_count": null,
      "outputs": [
        {
          "output_type": "execute_result",
          "data": {
            "text/plain": [
              "(tensor([[ 73.,  67.,  43.],\n",
              "         [ 91.,  88.,  64.],\n",
              "         [ 87., 134.,  58.],\n",
              "         [102.,  43.,  37.],\n",
              "         [ 69.,  96.,  70.]]),\n",
              " tensor([[ 56.,  70.],\n",
              "         [ 81., 101.],\n",
              "         [119., 133.],\n",
              "         [ 22.,  37.],\n",
              "         [103., 119.]]))"
            ]
          },
          "metadata": {},
          "execution_count": 30
        }
      ]
    },
    {
      "cell_type": "markdown",
      "source": [
        "## Linear regression model from scratch\n",
        "\n",
        "The weights and biases (`w11, w12,... w23, b1 & b2`) can also be represented as matrices, initialized as random values. The first row of `w` and the first element of `b` are used to predict the first target variable, i.e., yield of apples, and similarly, the second for oranges."
      ],
      "metadata": {
        "id": "vESzIyUXPE3J"
      }
    },
    {
      "cell_type": "code",
      "source": [
        "# Weights and biases\n",
        "w = torch.randn(2,3,requires_grad=True)\n",
        "b = torch.randn(2,requires_grad=True)\n",
        "w,b"
      ],
      "metadata": {
        "colab": {
          "base_uri": "https://localhost:8080/"
        },
        "id": "D2VUOlR3O3cf",
        "outputId": "a68a2d4d-f47f-4457-d390-8c708eeb6942"
      },
      "execution_count": null,
      "outputs": [
        {
          "output_type": "execute_result",
          "data": {
            "text/plain": [
              "(tensor([[-0.7693, -1.3281,  0.4447],\n",
              "         [-0.1458,  1.8284,  0.3992]], requires_grad=True),\n",
              " tensor([-0.3031,  0.5973], requires_grad=True))"
            ]
          },
          "metadata": {},
          "execution_count": 31
        }
      ]
    },
    {
      "cell_type": "markdown",
      "source": [
        "`torch.randn` creates a tensor with the given shape, with elements picked randomly from a [normal distribution](https://en.wikipedia.org/wiki/Normal_distribution) with mean 0 and standard deviation 1.\n",
        "\n",
        "Our *model* is simply a function that performs a matrix multiplication of the `inputs` and the weights `w` (transposed) and adds the bias `b` (replicated for each observation).\n",
        "\n",
        "![matrix-mult](https://i.imgur.com/WGXLFvA.png)\n",
        "\n",
        "We can define the model as follows:"
      ],
      "metadata": {
        "id": "eq4ORikEPgtn"
      }
    },
    {
      "cell_type": "code",
      "source": [
        "def model(x):\n",
        "  return x @ w.t() + b"
      ],
      "metadata": {
        "id": "4IOkhFCCPl2K"
      },
      "execution_count": null,
      "outputs": []
    },
    {
      "cell_type": "markdown",
      "source": [
        "`@` represents matrix multiplication in PyTorch, and the `.t` method returns the transpose of a tensor.\n",
        "\n",
        "The matrix obtained by passing the input data into the model is a set of predictions for the target variables."
      ],
      "metadata": {
        "id": "4TlLS2HwP6Fw"
      }
    },
    {
      "cell_type": "code",
      "source": [
        "preds=model(inputs)\n",
        "preds,targets"
      ],
      "metadata": {
        "colab": {
          "base_uri": "https://localhost:8080/"
        },
        "id": "FcMyYbUpP7Ad",
        "outputId": "9acae861-eaa8-486b-8f77-7119e928b4f5"
      },
      "execution_count": null,
      "outputs": [
        {
          "output_type": "execute_result",
          "data": {
            "text/plain": [
              "(tensor([[-126.3278,  129.6232],\n",
              "         [-158.7282,  173.7786],\n",
              "         [-219.4117,  256.0728],\n",
              "         [-119.4323,   79.1188],\n",
              "         [-149.7595,  194.0082]], grad_fn=<AddBackward0>),\n",
              " tensor([[ 56.,  70.],\n",
              "         [ 81., 101.],\n",
              "         [119., 133.],\n",
              "         [ 22.,  37.],\n",
              "         [103., 119.]]))"
            ]
          },
          "metadata": {},
          "execution_count": 33
        }
      ]
    },
    {
      "cell_type": "markdown",
      "source": [
        "# Loss Function\n",
        "Before we imporve our model, we need w way to evaluat how well our model is performing. We can compare the model's predictions with the actual targets using the following method:\n",
        "* calculate the difference between the two matrices(```preds``` and ```targets```)\n",
        "* Square all elements of the difference matrix to remove negative values.\n",
        "* Calculate the average of the elements in the resulting matrix.\n",
        "\n",
        "The result is a single number, known as the **Mean Squared Error**(MSE)."
      ],
      "metadata": {
        "id": "gIsniRoZQYWk"
      }
    },
    {
      "cell_type": "code",
      "source": [
        "# MSE loss\n",
        "def mse(t1,t2):\n",
        "  diff = t1 - t2\n",
        "  return torch.sum(diff*diff) / diff.numel()"
      ],
      "metadata": {
        "id": "4MwmnWzPRLsa"
      },
      "execution_count": null,
      "outputs": []
    },
    {
      "cell_type": "markdown",
      "source": [
        "`torch.sum` returns the sum of all the elements in a tensor. The `.numel` method of a tensor returns the number of elements in a tensor. Let's compute the mean squared error for the current predictions of our model."
      ],
      "metadata": {
        "id": "l8qT2otaRe9P"
      }
    },
    {
      "cell_type": "code",
      "source": [
        "# Compute loss\n",
        "loss = mse(preds, targets)\n",
        "print(loss)"
      ],
      "metadata": {
        "colab": {
          "base_uri": "https://localhost:8080/"
        },
        "id": "AdKxClseRf0E",
        "outputId": "1ce7481f-05a2-4c39-ae7f-361415e618bf"
      },
      "execution_count": null,
      "outputs": [
        {
          "output_type": "stream",
          "name": "stdout",
          "text": [
            "tensor(32052.4785, grad_fn=<DivBackward0>)\n"
          ]
        }
      ]
    },
    {
      "cell_type": "markdown",
      "source": [
        "Here’s how we can interpret the result: *On average, each element in the prediction differs from the actual target by the square root of the loss*. And that’s pretty bad, considering the numbers we are trying to predict are themselves in the range 50–200. The result is called the *loss* because it indicates how bad the model is at predicting the target variables. It represents information loss in the model: the lower the loss, the better the model."
      ],
      "metadata": {
        "id": "witWWgCGSu47"
      }
    },
    {
      "cell_type": "markdown",
      "source": [
        "# Compute gradients\n",
        "with PyTorch, we can automatically compute the gradient or derivative of the loss w.r.t to the weights and biases because they have ```requires_grad``` set to ```True```. We'll see how this is useful in just a moment."
      ],
      "metadata": {
        "id": "f3Ux0RjBS41G"
      }
    },
    {
      "cell_type": "code",
      "source": [
        "# Compute gradients\n",
        "loss.backward()"
      ],
      "metadata": {
        "id": "ZoYXSfemS0Tq"
      },
      "execution_count": null,
      "outputs": []
    },
    {
      "cell_type": "markdown",
      "source": [
        "the gradients are stored in the ```.grad``` property of the respective tensors. Note that the derviative of the loss w.r.t the weights matrix is itself a matrix with  same dimensions"
      ],
      "metadata": {
        "id": "6lVv04FeThW2"
      }
    },
    {
      "cell_type": "code",
      "source": [
        "# Grdient for Weights\n",
        "w,w.grad"
      ],
      "metadata": {
        "colab": {
          "base_uri": "https://localhost:8080/"
        },
        "id": "pzrpPQXITzud",
        "outputId": "54d9c13d-ab3b-4df3-8882-4b2d08281038"
      },
      "execution_count": null,
      "outputs": [
        {
          "output_type": "execute_result",
          "data": {
            "text/plain": [
              "(tensor([[-0.7693, -1.3281,  0.4447],\n",
              "         [-0.1458,  1.8284,  0.3992]], requires_grad=True),\n",
              " tensor([[-19286.7031, -21801.1426, -13147.3477],\n",
              "         [  6230.8730,   7180.5859,   4233.7646]]))"
            ]
          },
          "metadata": {},
          "execution_count": 37
        }
      ]
    },
    {
      "cell_type": "code",
      "source": [
        "w.grad.zero_()\n",
        "b.grad.zero_()"
      ],
      "metadata": {
        "colab": {
          "base_uri": "https://localhost:8080/"
        },
        "id": "piPXdTPnZb_6",
        "outputId": "f221c29b-61cb-4375-d79f-fc6ff032f06c"
      },
      "execution_count": null,
      "outputs": [
        {
          "output_type": "execute_result",
          "data": {
            "text/plain": [
              "tensor([0., 0.])"
            ]
          },
          "metadata": {},
          "execution_count": 44
        }
      ]
    },
    {
      "cell_type": "markdown",
      "source": [
        "## Adjust weights and biases to reduce the loss\n",
        "\n",
        "The loss is a [quadratic function](https://en.wikipedia.org/wiki/Quadratic_function) of our weights and biases, and our objective is to find the set of weights where the loss is the lowest. If we plot a graph of the loss w.r.t any individual weight or bias element, it will look like the figure shown below. An important insight from calculus is that the gradient indicates the rate of change of the loss, i.e., the loss function's [slope](https://en.wikipedia.org/wiki/Slope) w.r.t. the weights and biases.\n",
        "\n",
        "If a gradient element is **positive**:\n",
        "\n",
        "* **increasing** the weight element's value slightly will **increase** the loss\n",
        "* **decreasing** the weight element's value slightly will **decrease** the loss\n",
        "\n",
        "![postive-gradient](https://i.imgur.com/WLzJ4xP.png)\n",
        "\n",
        "If a gradient element is **negative**:\n",
        "\n",
        "* **increasing** the weight element's value slightly will **decrease** the loss\n",
        "* **decreasing** the weight element's value slightly will **increase** the loss\n",
        "\n",
        "![negative=gradient](https://i.imgur.com/dvG2fxU.png)\n",
        "\n",
        "The increase or decrease in the loss by changing a weight element is proportional to the gradient of the loss w.r.t. that element. This observation forms the basis of _the gradient descent_ optimization algorithm that we'll use to improve our model (by _descending_ along the _gradient_).\n",
        "\n",
        "We can subtract from each weight element a small quantity proportional to the derivative of the loss w.r.t. that element to reduce the loss slightly."
      ],
      "metadata": {
        "id": "rF9JIqotUE5J"
      }
    },
    {
      "cell_type": "markdown",
      "source": [
        "# Train the model using gradient descent\n",
        "As seen above, we reduce the loss and improve our model using the gradient descent optimization algorithm. Thus, we can train the model using the following steps:\n",
        "1. Generate Predictions\n",
        "1. Calculate the loss\n",
        "1. Compute gradients w.r.t the weights and biases\n",
        "1. Adjust the weights by subracting a small quantity propotional to the gradient.\n",
        "1. Reset the gradients to zero\n"
      ],
      "metadata": {
        "id": "E9W_mflWVpGz"
      }
    },
    {
      "cell_type": "code",
      "source": [
        "# Genrate predictions\n",
        "preds = model(inputs)\n",
        "preds"
      ],
      "metadata": {
        "colab": {
          "base_uri": "https://localhost:8080/"
        },
        "id": "mBTypvmcWTkS",
        "outputId": "76e250dc-f4d5-4a8d-920a-3281cf0de7ef"
      },
      "execution_count": null,
      "outputs": [
        {
          "output_type": "execute_result",
          "data": {
            "text/plain": [
              "tensor([[ -57.6443,  107.2616],\n",
              "        [ -68.4232,  144.3799],\n",
              "        [-112.1702,  221.0745],\n",
              "        [ -51.6048,   57.0980],\n",
              "        [ -62.8747,  165.6942]], grad_fn=<AddBackward0>)"
            ]
          },
          "metadata": {},
          "execution_count": 45
        }
      ]
    },
    {
      "cell_type": "code",
      "source": [
        "# Compute loss\n",
        "loss = mse(preds, targets)\n",
        "loss"
      ],
      "metadata": {
        "colab": {
          "base_uri": "https://localhost:8080/"
        },
        "id": "tPJ-lnVKWaFX",
        "outputId": "92bd4136-1281-4b18-c74f-395825dcae29"
      },
      "execution_count": null,
      "outputs": [
        {
          "output_type": "execute_result",
          "data": {
            "text/plain": [
              "tensor(13522.5684, grad_fn=<DivBackward0>)"
            ]
          },
          "metadata": {},
          "execution_count": 46
        }
      ]
    },
    {
      "cell_type": "code",
      "source": [
        "# Compute gradients\n",
        "loss.backward()\n",
        "w.grad,b.grad"
      ],
      "metadata": {
        "colab": {
          "base_uri": "https://localhost:8080/"
        },
        "id": "2LaDbUT5WjdQ",
        "outputId": "fa189e64-b5c3-4d81-d571-6dae188c51f1"
      },
      "execution_count": null,
      "outputs": [
        {
          "output_type": "execute_result",
          "data": {
            "text/plain": [
              "(tensor([[-12191.6797, -14165.8398,  -8438.4551],\n",
              "         [  3920.4077,   4692.5581,   2699.8198]]),\n",
              " tensor([-146.7434,   47.1016]))"
            ]
          },
          "metadata": {},
          "execution_count": 47
        }
      ]
    },
    {
      "cell_type": "code",
      "source": [
        "# Adjust weights & reset gradients\n",
        "with torch.no_grad():\n",
        "  w -= w.grad * 1e-5\n",
        "  b -= b.grad * 1e-5\n",
        "  w.grad.zero_()\n",
        "  b.grad.zero_()\n"
      ],
      "metadata": {
        "id": "nLiPBJsdWrbn"
      },
      "execution_count": null,
      "outputs": []
    },
    {
      "cell_type": "markdown",
      "source": [
        "we multiply the gradients with a small number(10^-5 in this case) to ensure that we don't modify the weights by a very large amount. We watn to take a small step in the downhill of the gradient, not a gaint leap. This number is called the *learning rate* of the algorithm.\n",
        "\n",
        "we Use torch.no_grad to indicate to PyTorch that we shouldn't track, calculate, or modify gradients while updating the weights and biases.\n",
        "\n",
        "Before we proceed, we reset the gradients to zero by invoking the `.zero_()` method. We need to do this because PyTorch accumulates gradients. Otherwise, the next time we invoke `.backward` on the loss, the new gradient values are added to the existing gradients, which may lead to unexpected results."
      ],
      "metadata": {
        "id": "wCLQ0SX_XS0T"
      }
    },
    {
      "cell_type": "code",
      "source": [
        "w,b"
      ],
      "metadata": {
        "colab": {
          "base_uri": "https://localhost:8080/"
        },
        "id": "wfmqel-AX_Rb",
        "outputId": "fd3b4789-c222-4226-8f1e-e16c7d8a2ef9"
      },
      "execution_count": null,
      "outputs": [
        {
          "output_type": "execute_result",
          "data": {
            "text/plain": [
              "(tensor([[-0.2617, -0.7504,  0.7920],\n",
              "         [-0.3096,  1.6379,  0.2875]], requires_grad=True),\n",
              " tensor([-0.2970,  0.5953], requires_grad=True))"
            ]
          },
          "metadata": {},
          "execution_count": 49
        }
      ]
    },
    {
      "cell_type": "code",
      "source": [
        "# Calculate loss\n",
        "preds = model(inputs)\n",
        "loss =mse(preds, targets)\n",
        "loss"
      ],
      "metadata": {
        "colab": {
          "base_uri": "https://localhost:8080/"
        },
        "id": "vuBN-x5IYU8y",
        "outputId": "048ad55b-b69e-4866-f116-0f93dc4fdffd"
      },
      "execution_count": null,
      "outputs": [
        {
          "output_type": "execute_result",
          "data": {
            "text/plain": [
              "tensor(9286.4258, grad_fn=<DivBackward0>)"
            ]
          },
          "metadata": {},
          "execution_count": 50
        }
      ]
    },
    {
      "cell_type": "markdown",
      "source": [
        "# Linear Regression using PyTorch built-ins\n",
        "We've implemented linear regression & gradient descent model using some basic tensor operations. However, since this is common pattern in deeplearning, PyTorch provides several built-in functions and classes to make it easy to create and train models with jsut a few lines of code.\n",
        "Let's begin by importing the ```torch.nn``` package from PyTorch, which contains utility classes for buliding neural networks."
      ],
      "metadata": {
        "id": "8iwW1xWgL51G"
      }
    },
    {
      "cell_type": "code",
      "source": [
        "import torch.nn as nn\n",
        "import numpy as np"
      ],
      "metadata": {
        "id": "3SU5wMNUMlRr"
      },
      "execution_count": 2,
      "outputs": []
    },
    {
      "cell_type": "code",
      "source": [
        "# Input (temp, rainfall, humidity)\n",
        "inputs = np.array([[73, 67, 43],\n",
        "                   [91, 88, 64],\n",
        "                   [87, 134, 58],\n",
        "                   [102, 43, 37],\n",
        "                   [69, 96, 70],\n",
        "                   [74, 66, 43],\n",
        "                   [91, 87, 65],\n",
        "                   [88, 134, 59],\n",
        "                   [101, 44, 37],\n",
        "                   [68, 96, 71],\n",
        "                   [73, 66, 44],\n",
        "                   [92, 87, 64],\n",
        "                   [87, 135, 57],\n",
        "                   [103, 43, 36],\n",
        "                   [68, 97, 70]],\n",
        "                  dtype='float32')\n",
        "\n",
        "# Targets (apples, oranges)\n",
        "targets = np.array([[56, 70],\n",
        "                    [81, 101],\n",
        "                    [119, 133],\n",
        "                    [22, 37],\n",
        "                    [103, 119],\n",
        "                    [57, 69],\n",
        "                    [80, 102],\n",
        "                    [118, 132],\n",
        "                    [21, 38],\n",
        "                    [104, 118],\n",
        "                    [57, 69],\n",
        "                    [82, 100],\n",
        "                    [118, 134],\n",
        "                    [20, 38],\n",
        "                    [102, 120]],\n",
        "                   dtype='float32')\n",
        "\n",
        "inputs = torch.from_numpy(inputs)\n",
        "targets = torch.from_numpy(targets)"
      ],
      "metadata": {
        "id": "RTA5s1sgMtX4"
      },
      "execution_count": 7,
      "outputs": []
    },
    {
      "cell_type": "markdown",
      "source": [
        "We are using 15 training examples to illustrate how to work with large datasets in small batches. ( mini-batch gradient descent)"
      ],
      "metadata": {
        "id": "ozthsTrKM2qZ"
      }
    },
    {
      "cell_type": "markdown",
      "source": [
        "# Dataset and DataLoader\n",
        "we'll create ```TensorDataset```, which allows access to rows form inputs and targets as tuples, and provides standard APIs for working with many different types of datasets in PyTorch."
      ],
      "metadata": {
        "id": "GFbbkRCjf4ft"
      }
    },
    {
      "cell_type": "code",
      "source": [
        "from torch.utils.data import TensorDataset\n"
      ],
      "metadata": {
        "id": "oDE--fWMM2aj"
      },
      "execution_count": 8,
      "outputs": []
    },
    {
      "cell_type": "code",
      "source": [
        "# Define dataset\n",
        "train_ds = TensorDataset(inputs, targets)\n",
        "train_ds[:3]"
      ],
      "metadata": {
        "colab": {
          "base_uri": "https://localhost:8080/"
        },
        "id": "SkiGUjTbgvw3",
        "outputId": "3304c6a6-77b0-45c0-acc3-c52122e401e7"
      },
      "execution_count": 9,
      "outputs": [
        {
          "output_type": "execute_result",
          "data": {
            "text/plain": [
              "(tensor([[ 73.,  67.,  43.],\n",
              "         [ 91.,  88.,  64.],\n",
              "         [ 87., 134.,  58.]]),\n",
              " tensor([[ 56.,  70.],\n",
              "         [ 81., 101.],\n",
              "         [119., 133.]]))"
            ]
          },
          "metadata": {},
          "execution_count": 9
        }
      ]
    },
    {
      "cell_type": "markdown",
      "source": [
        "The `TensorDataset` allows us to access a small section of the training data using the array indexing notation (`[0:3]` in the above code). It returns a tuple with two elements. The first element contains the input variables for the selected rows, and the second contains the targets."
      ],
      "metadata": {
        "id": "LaGydeS0hXz4"
      }
    },
    {
      "cell_type": "code",
      "source": [
        "from torch.utils.data import DataLoader"
      ],
      "metadata": {
        "id": "AFLV0lJ5hW81"
      },
      "execution_count": 10,
      "outputs": []
    },
    {
      "cell_type": "code",
      "source": [
        "# Define data loader\n",
        "batch_size = 5\n",
        "train_dl=DataLoader(train_ds,batch_size,shuffle=True)\n"
      ],
      "metadata": {
        "id": "gHtox1QNhfqL"
      },
      "execution_count": 12,
      "outputs": []
    },
    {
      "cell_type": "code",
      "source": [
        "for xb, yb in train_dl:\n",
        "    print(xb)\n",
        "    print(yb)\n",
        "    break\n",
        ""
      ],
      "metadata": {
        "colab": {
          "base_uri": "https://localhost:8080/"
        },
        "id": "TD0gauI7h6J6",
        "outputId": "423b6087-01ee-4b66-8a05-493d5fe9e1e7"
      },
      "execution_count": 13,
      "outputs": [
        {
          "output_type": "stream",
          "name": "stdout",
          "text": [
            "tensor([[91., 87., 65.],\n",
            "        [68., 97., 70.],\n",
            "        [73., 66., 44.],\n",
            "        [92., 87., 64.],\n",
            "        [91., 88., 64.]])\n",
            "tensor([[ 80., 102.],\n",
            "        [102., 120.],\n",
            "        [ 57.,  69.],\n",
            "        [ 82., 100.],\n",
            "        [ 81., 101.]])\n"
          ]
        }
      ]
    },
    {
      "cell_type": "markdown",
      "source": [
        "In each iteration, the data loader returns one batch of data with the given batch size. If `shuffle` is set to `True`, it shuffles the training data before creating batches. Shuffling helps randomize the input to the optimization algorithm, leading to a faster reduction in the loss."
      ],
      "metadata": {
        "id": "yu95aZpOiEYN"
      }
    },
    {
      "cell_type": "markdown",
      "source": [
        "# nn.Linear\n",
        "Instead of intializing the weights & baises manually, we can define the model using the ```nn.Linear``` class from PyTorch, which does it automatically."
      ],
      "metadata": {
        "id": "keN_CSCOiGDh"
      }
    },
    {
      "cell_type": "code",
      "source": [
        "# Define model\n",
        "model = nn.Linear(3,2)\n",
        "print(model.weight)\n",
        "print(model.bias)"
      ],
      "metadata": {
        "colab": {
          "base_uri": "https://localhost:8080/"
        },
        "id": "Cbe14LeciFMb",
        "outputId": "ade065e2-16d3-488f-b7c2-598d83d52731"
      },
      "execution_count": 14,
      "outputs": [
        {
          "output_type": "stream",
          "name": "stdout",
          "text": [
            "Parameter containing:\n",
            "tensor([[-0.4952, -0.3022,  0.3981],\n",
            "        [-0.0846, -0.1073,  0.4403]], requires_grad=True)\n",
            "Parameter containing:\n",
            "tensor([ 0.5217, -0.4699], requires_grad=True)\n"
          ]
        }
      ]
    },
    {
      "cell_type": "code",
      "source": [
        "?nn.Linear #gives documentation of nn.Linear"
      ],
      "metadata": {
        "id": "A5eHQfN4n7KN"
      },
      "execution_count": 23,
      "outputs": []
    },
    {
      "cell_type": "markdown",
      "source": [
        "PyTorch models also have a helpful `.parameters` method, which returns a list containing all the weights and bias matrices present in the model. For our linear regression model, we have one weight matrix and one bias matrix."
      ],
      "metadata": {
        "id": "cojVU1zcio2y"
      }
    },
    {
      "cell_type": "code",
      "source": [
        "# Parameters\n",
        "list(model.parameters())"
      ],
      "metadata": {
        "colab": {
          "base_uri": "https://localhost:8080/"
        },
        "id": "B-v69x7gim0c",
        "outputId": "2103798e-3071-49e4-8cc9-5fc51cfd949f"
      },
      "execution_count": 15,
      "outputs": [
        {
          "output_type": "execute_result",
          "data": {
            "text/plain": [
              "[Parameter containing:\n",
              " tensor([[-0.4952, -0.3022,  0.3981],\n",
              "         [-0.0846, -0.1073,  0.4403]], requires_grad=True),\n",
              " Parameter containing:\n",
              " tensor([ 0.5217, -0.4699], requires_grad=True)]"
            ]
          },
          "metadata": {},
          "execution_count": 15
        }
      ]
    },
    {
      "cell_type": "code",
      "source": [
        "# Generate predictions\n",
        "preds = model(inputs)\n",
        "preds"
      ],
      "metadata": {
        "colab": {
          "base_uri": "https://localhost:8080/"
        },
        "id": "ULtx3itPizy2",
        "outputId": "4eb4b866-d959-4ae5-9c55-8d5de5554f96"
      },
      "execution_count": 16,
      "outputs": [
        {
          "output_type": "execute_result",
          "data": {
            "text/plain": [
              "tensor([[-38.7562,   5.0967],\n",
              "        [-45.6556,  10.5668],\n",
              "        [-59.9667,   3.3273],\n",
              "        [-48.2514,   2.5757],\n",
              "        [-34.7908,  14.2123],\n",
              "        [-38.9492,   5.1193],\n",
              "        [-44.9552,  11.1145],\n",
              "        [-60.0637,   3.6830],\n",
              "        [-48.0584,   2.5530],\n",
              "        [-33.8975,  14.7372],\n",
              "        [-38.0559,   5.6443],\n",
              "        [-45.8485,  10.5895],\n",
              "        [-60.6670,   2.7796],\n",
              "        [-49.1447,   2.0507],\n",
              "        [-34.5979,  14.1896]], grad_fn=<AddmmBackward0>)"
            ]
          },
          "metadata": {},
          "execution_count": 16
        }
      ]
    },
    {
      "cell_type": "markdown",
      "source": [
        "# Loss Function\n",
        "instead of defining a loss function manually, we can use the bulit-in loss function ```mse_loss```"
      ],
      "metadata": {
        "id": "AeHuWp-qjF7b"
      }
    },
    {
      "cell_type": "code",
      "source": [
        "# Import nn.functional\n",
        "import torch.nn.functional as F"
      ],
      "metadata": {
        "id": "7g0yrGqxjCln"
      },
      "execution_count": 17,
      "outputs": []
    },
    {
      "cell_type": "code",
      "source": [
        "# Define loss function\n",
        "loss_fn = F.mse_loss"
      ],
      "metadata": {
        "id": "YtiYf7aPjiGq"
      },
      "execution_count": 18,
      "outputs": []
    },
    {
      "cell_type": "code",
      "source": [
        "loss=loss_fn(model(inputs),targets)\n",
        "print(loss)"
      ],
      "metadata": {
        "colab": {
          "base_uri": "https://localhost:8080/"
        },
        "id": "2OkNO99ijp91",
        "outputId": "67d2a72a-0695-413f-fdb6-f0f51e549a53"
      },
      "execution_count": 19,
      "outputs": [
        {
          "output_type": "stream",
          "name": "stdout",
          "text": [
            "tensor(12194.5801, grad_fn=<MseLossBackward0>)\n"
          ]
        }
      ]
    },
    {
      "cell_type": "markdown",
      "source": [
        "# Optimizer\n",
        "Instead of manually manipulating  the model's weights & biases using gradients, we can use the optimizer ```optim.SGD```. SGD is short for \"stochastic gradient descent\". The term *stochastic* indicates the samples are selected in random batches instead of single group.\n"
      ],
      "metadata": {
        "id": "s1hnkQ_Bjy0J"
      }
    },
    {
      "cell_type": "code",
      "source": [
        "# Define Optmizer\n",
        "opt = torch.optim.SGD(model.parameters(),lr=1e-5)"
      ],
      "metadata": {
        "id": "Ygzs5seKjwml"
      },
      "execution_count": 20,
      "outputs": []
    },
    {
      "cell_type": "markdown",
      "source": [
        "Note that `model.parameters()` is passed as an argument to `optim.SGD` so that the optimizer knows which matrices should be modified during the update step. Also, we can specify a learning rate that controls the amount by which the parameters are modified."
      ],
      "metadata": {
        "id": "A8dgFuimkli9"
      }
    },
    {
      "cell_type": "code",
      "source": [
        "# Utility functions to train the model\n",
        "def fit(num_epochs, model, loss_fn, opt, train_dl):\n",
        "\n",
        "  #Repeat for given number of epochs\n",
        "  for epoch in range(num_epochs):\n",
        "\n",
        "    # Train with batches of data\n",
        "    for xb,yb in train_dl:\n",
        "\n",
        "      # 1. Generate predictions\n",
        "      pred=model(xb)\n",
        "\n",
        "      # 2. Calculate loss\n",
        "      loss = loss_fn(pred,yb)\n",
        "\n",
        "      # 3. Compute Gradients\n",
        "      loss.backward()\n",
        "\n",
        "      # 4. Update parameters using gradients\n",
        "      opt.step()\n",
        "\n",
        "      # 5. Reset the gradients to zero\n",
        "      opt.zero_grad\n",
        "\n",
        "    # Print the progress\n",
        "    if (epoch+1) % 10 == 0:\n",
        "      print('Epoch [{}/{}], Loss: {:.4f}'.format(epoch+1, num_epochs, loss.item()))"
      ],
      "metadata": {
        "id": "febO47MLk0Jv"
      },
      "execution_count": 21,
      "outputs": []
    },
    {
      "cell_type": "code",
      "source": [
        "fit(100, model, loss_fn, opt, train_dl)"
      ],
      "metadata": {
        "colab": {
          "base_uri": "https://localhost:8080/"
        },
        "id": "Ilar0-E4mdav",
        "outputId": "ccd32d9b-6217-4451-91c1-34ee9cdaf0e1"
      },
      "execution_count": 22,
      "outputs": [
        {
          "output_type": "stream",
          "name": "stdout",
          "text": [
            "Epoch [10/100], Loss: 18733.8281\n",
            "Epoch [20/100], Loss: 26395.0527\n",
            "Epoch [30/100], Loss: 18207.0410\n",
            "Epoch [40/100], Loss: 20112.0195\n",
            "Epoch [50/100], Loss: 19066.7070\n",
            "Epoch [60/100], Loss: 6272.5215\n",
            "Epoch [70/100], Loss: 174.1742\n",
            "Epoch [80/100], Loss: 3022.0930\n",
            "Epoch [90/100], Loss: 10459.2061\n",
            "Epoch [100/100], Loss: 16756.8945\n"
          ]
        }
      ]
    },
    {
      "cell_type": "code",
      "source": [],
      "metadata": {
        "id": "UT4cpWHuml_j"
      },
      "execution_count": null,
      "outputs": []
    }
  ]
}